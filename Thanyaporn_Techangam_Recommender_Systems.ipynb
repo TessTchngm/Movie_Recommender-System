{
 "cells": [
  {
   "cell_type": "markdown",
   "metadata": {
    "id": "xl0wfzDUlLJd"
   },
   "source": [
    "# **Recommender Systems**"
   ]
  },
  {
   "cell_type": "markdown",
   "metadata": {
    "id": "B46vMG31eRe6"
   },
   "source": [
    "# **Task 1: Data Preprocessing**"
   ]
  },
  {
   "cell_type": "code",
   "execution_count": 1,
   "metadata": {
    "colab": {
     "base_uri": "https://localhost:8080/"
    },
    "id": "rSueaCtcMaQH",
    "outputId": "aca7675e-958d-4246-ddf9-ccd299145c5f"
   },
   "outputs": [
    {
     "name": "stdout",
     "output_type": "stream",
     "text": [
      "Looking in indexes: https://pypi.org/simple, https://us-python.pkg.dev/colab-wheels/public/simple/\n",
      "Collecting scikit-surprise\n",
      "  Downloading scikit-surprise-1.1.3.tar.gz (771 kB)\n",
      "\u001b[2K     \u001b[90m━━━━━━━━━━━━━━━━━━━━━━━━━━━━━━━━━━━━━━━\u001b[0m \u001b[32m772.0/772.0 KB\u001b[0m \u001b[31m8.3 MB/s\u001b[0m eta \u001b[36m0:00:00\u001b[0m\n",
      "\u001b[?25h  Preparing metadata (setup.py) ... \u001b[?25l\u001b[?25hdone\n",
      "Requirement already satisfied: joblib>=1.0.0 in /usr/local/lib/python3.9/dist-packages (from scikit-surprise) (1.1.1)\n",
      "Requirement already satisfied: numpy>=1.17.3 in /usr/local/lib/python3.9/dist-packages (from scikit-surprise) (1.22.4)\n",
      "Requirement already satisfied: scipy>=1.3.2 in /usr/local/lib/python3.9/dist-packages (from scikit-surprise) (1.10.1)\n",
      "Building wheels for collected packages: scikit-surprise\n",
      "  Building wheel for scikit-surprise (setup.py) ... \u001b[?25l\u001b[?25hdone\n",
      "  Created wheel for scikit-surprise: filename=scikit_surprise-1.1.3-cp39-cp39-linux_x86_64.whl size=3193647 sha256=5259ff1c4aada0288e61b0051d7295ee9b0df4ef73cac1a705cf0ed0ade74a94\n",
      "  Stored in directory: /root/.cache/pip/wheels/c6/3a/46/9b17b3512bdf283c6cb84f59929cdd5199d4e754d596d22784\n",
      "Successfully built scikit-surprise\n",
      "Installing collected packages: scikit-surprise\n",
      "Successfully installed scikit-surprise-1.1.3\n"
     ]
    }
   ],
   "source": [
    "!pip install scikit-surprise"
   ]
  },
  {
   "cell_type": "code",
   "execution_count": 2,
   "metadata": {
    "id": "f0uWBQWyRPre"
   },
   "outputs": [],
   "source": [
    "# import all relevant libraries\n",
    "import pandas as pd\n",
    "import numpy as np\n",
    "from surprise import BaselineOnly, Dataset, Reader, SVD\n",
    "from surprise import accuracy \n",
    "import surprise\n",
    "from surprise.model_selection import train_test_split"
   ]
  },
  {
   "cell_type": "markdown",
   "metadata": {
    "id": "STFMVu0VR5f0"
   },
   "source": [
    "# Dataset \n",
    "\n",
    "-  'ratings.csv' file"
   ]
  },
  {
   "cell_type": "code",
   "execution_count": 3,
   "metadata": {
    "colab": {
     "base_uri": "https://localhost:8080/"
    },
    "id": "5cY2d6ZkQC1P",
    "outputId": "7aa48919-4ecd-458c-c6c2-785d2ec22ff1"
   },
   "outputs": [
    {
     "name": "stdout",
     "output_type": "stream",
     "text": [
      "Mounted at /content/drive\n"
     ]
    }
   ],
   "source": [
    "from google.colab import drive\n",
    "drive.mount('/content/drive')"
   ]
  },
  {
   "cell_type": "code",
   "execution_count": 4,
   "metadata": {
    "colab": {
     "base_uri": "https://localhost:8080/",
     "height": 206
    },
    "id": "3LysacDtRB_v",
    "outputId": "f309f7fd-8778-494d-e1b6-09242a375f59"
   },
   "outputs": [
    {
     "data": {
      "text/html": [
       "\n",
       "  <div id=\"df-fcd8aa98-5892-4374-b393-c996639f038e\">\n",
       "    <div class=\"colab-df-container\">\n",
       "      <div>\n",
       "<style scoped>\n",
       "    .dataframe tbody tr th:only-of-type {\n",
       "        vertical-align: middle;\n",
       "    }\n",
       "\n",
       "    .dataframe tbody tr th {\n",
       "        vertical-align: top;\n",
       "    }\n",
       "\n",
       "    .dataframe thead th {\n",
       "        text-align: right;\n",
       "    }\n",
       "</style>\n",
       "<table border=\"1\" class=\"dataframe\">\n",
       "  <thead>\n",
       "    <tr style=\"text-align: right;\">\n",
       "      <th></th>\n",
       "      <th>userId</th>\n",
       "      <th>movieId</th>\n",
       "      <th>rating</th>\n",
       "      <th>timestamp</th>\n",
       "    </tr>\n",
       "  </thead>\n",
       "  <tbody>\n",
       "    <tr>\n",
       "      <th>0</th>\n",
       "      <td>1</td>\n",
       "      <td>1</td>\n",
       "      <td>4.0</td>\n",
       "      <td>964982703</td>\n",
       "    </tr>\n",
       "    <tr>\n",
       "      <th>1</th>\n",
       "      <td>1</td>\n",
       "      <td>3</td>\n",
       "      <td>4.0</td>\n",
       "      <td>964981247</td>\n",
       "    </tr>\n",
       "    <tr>\n",
       "      <th>2</th>\n",
       "      <td>1</td>\n",
       "      <td>6</td>\n",
       "      <td>4.0</td>\n",
       "      <td>964982224</td>\n",
       "    </tr>\n",
       "    <tr>\n",
       "      <th>3</th>\n",
       "      <td>1</td>\n",
       "      <td>47</td>\n",
       "      <td>5.0</td>\n",
       "      <td>964983815</td>\n",
       "    </tr>\n",
       "    <tr>\n",
       "      <th>4</th>\n",
       "      <td>1</td>\n",
       "      <td>50</td>\n",
       "      <td>5.0</td>\n",
       "      <td>964982931</td>\n",
       "    </tr>\n",
       "  </tbody>\n",
       "</table>\n",
       "</div>\n",
       "      <button class=\"colab-df-convert\" onclick=\"convertToInteractive('df-fcd8aa98-5892-4374-b393-c996639f038e')\"\n",
       "              title=\"Convert this dataframe to an interactive table.\"\n",
       "              style=\"display:none;\">\n",
       "        \n",
       "  <svg xmlns=\"http://www.w3.org/2000/svg\" height=\"24px\"viewBox=\"0 0 24 24\"\n",
       "       width=\"24px\">\n",
       "    <path d=\"M0 0h24v24H0V0z\" fill=\"none\"/>\n",
       "    <path d=\"M18.56 5.44l.94 2.06.94-2.06 2.06-.94-2.06-.94-.94-2.06-.94 2.06-2.06.94zm-11 1L8.5 8.5l.94-2.06 2.06-.94-2.06-.94L8.5 2.5l-.94 2.06-2.06.94zm10 10l.94 2.06.94-2.06 2.06-.94-2.06-.94-.94-2.06-.94 2.06-2.06.94z\"/><path d=\"M17.41 7.96l-1.37-1.37c-.4-.4-.92-.59-1.43-.59-.52 0-1.04.2-1.43.59L10.3 9.45l-7.72 7.72c-.78.78-.78 2.05 0 2.83L4 21.41c.39.39.9.59 1.41.59.51 0 1.02-.2 1.41-.59l7.78-7.78 2.81-2.81c.8-.78.8-2.07 0-2.86zM5.41 20L4 18.59l7.72-7.72 1.47 1.35L5.41 20z\"/>\n",
       "  </svg>\n",
       "      </button>\n",
       "      \n",
       "  <style>\n",
       "    .colab-df-container {\n",
       "      display:flex;\n",
       "      flex-wrap:wrap;\n",
       "      gap: 12px;\n",
       "    }\n",
       "\n",
       "    .colab-df-convert {\n",
       "      background-color: #E8F0FE;\n",
       "      border: none;\n",
       "      border-radius: 50%;\n",
       "      cursor: pointer;\n",
       "      display: none;\n",
       "      fill: #1967D2;\n",
       "      height: 32px;\n",
       "      padding: 0 0 0 0;\n",
       "      width: 32px;\n",
       "    }\n",
       "\n",
       "    .colab-df-convert:hover {\n",
       "      background-color: #E2EBFA;\n",
       "      box-shadow: 0px 1px 2px rgba(60, 64, 67, 0.3), 0px 1px 3px 1px rgba(60, 64, 67, 0.15);\n",
       "      fill: #174EA6;\n",
       "    }\n",
       "\n",
       "    [theme=dark] .colab-df-convert {\n",
       "      background-color: #3B4455;\n",
       "      fill: #D2E3FC;\n",
       "    }\n",
       "\n",
       "    [theme=dark] .colab-df-convert:hover {\n",
       "      background-color: #434B5C;\n",
       "      box-shadow: 0px 1px 3px 1px rgba(0, 0, 0, 0.15);\n",
       "      filter: drop-shadow(0px 1px 2px rgba(0, 0, 0, 0.3));\n",
       "      fill: #FFFFFF;\n",
       "    }\n",
       "  </style>\n",
       "\n",
       "      <script>\n",
       "        const buttonEl =\n",
       "          document.querySelector('#df-fcd8aa98-5892-4374-b393-c996639f038e button.colab-df-convert');\n",
       "        buttonEl.style.display =\n",
       "          google.colab.kernel.accessAllowed ? 'block' : 'none';\n",
       "\n",
       "        async function convertToInteractive(key) {\n",
       "          const element = document.querySelector('#df-fcd8aa98-5892-4374-b393-c996639f038e');\n",
       "          const dataTable =\n",
       "            await google.colab.kernel.invokeFunction('convertToInteractive',\n",
       "                                                     [key], {});\n",
       "          if (!dataTable) return;\n",
       "\n",
       "          const docLinkHtml = 'Like what you see? Visit the ' +\n",
       "            '<a target=\"_blank\" href=https://colab.research.google.com/notebooks/data_table.ipynb>data table notebook</a>'\n",
       "            + ' to learn more about interactive tables.';\n",
       "          element.innerHTML = '';\n",
       "          dataTable['output_type'] = 'display_data';\n",
       "          await google.colab.output.renderOutput(dataTable, element);\n",
       "          const docLink = document.createElement('div');\n",
       "          docLink.innerHTML = docLinkHtml;\n",
       "          element.appendChild(docLink);\n",
       "        }\n",
       "      </script>\n",
       "    </div>\n",
       "  </div>\n",
       "  "
      ],
      "text/plain": [
       "   userId  movieId  rating  timestamp\n",
       "0       1        1     4.0  964982703\n",
       "1       1        3     4.0  964981247\n",
       "2       1        6     4.0  964982224\n",
       "3       1       47     5.0  964983815\n",
       "4       1       50     5.0  964982931"
      ]
     },
     "execution_count": 4,
     "metadata": {},
     "output_type": "execute_result"
    }
   ],
   "source": [
    "# Load the data and check column details in table using .head()\n",
    "df = pd.read_csv('/content/drive/MyDrive/ratings.csv')\n",
    "df.head()"
   ]
  },
  {
   "cell_type": "markdown",
   "metadata": {
    "id": "-AYwiZoNg8vO"
   },
   "source": [
    "### **Convert the data into the utility matrix**"
   ]
  },
  {
   "cell_type": "code",
   "execution_count": 5,
   "metadata": {
    "id": "9FdU1PLbZBcZ"
   },
   "outputs": [],
   "source": [
    "# path to dataset file\n",
    "file_path = '/content/drive/MyDrive/ratings.csv'\n",
    "\n",
    "# 'userId', 'movieId', 'rating', and 'timestamp', separated by commas.\n",
    "reader = Reader(line_format=\"user item rating timestamp\", sep=\",\", skip_lines=1)\n",
    "\n",
    "# To collect 'ratings' as matrix\n",
    "data = Dataset.load_from_file(file_path, reader=reader)"
   ]
  },
  {
   "cell_type": "code",
   "execution_count": 6,
   "metadata": {
    "colab": {
     "base_uri": "https://localhost:8080/"
    },
    "id": "1Z-5bX7tRi5F",
    "outputId": "f7c3865d-0632-4999-d7c8-29efa3c4e1d3"
   },
   "outputs": [
    {
     "name": "stdout",
     "output_type": "stream",
     "text": [
      "<surprise.dataset.DatasetAutoFolds object at 0x7f02008cb610>\n"
     ]
    }
   ],
   "source": [
    "print(data)"
   ]
  },
  {
   "cell_type": "markdown",
   "metadata": {
    "id": "7k55Fdn0hCoA"
   },
   "source": [
    "### **Split the dataset into training and testing sets with a ratio of 80:20**"
   ]
  },
  {
   "cell_type": "markdown",
   "metadata": {
    "id": "C-cDBdy0EA2F"
   },
   "source": [
    "## Train Test Split (Train:Test= 80:20)\n",
    " *surprise.model_selection.split.train_test_split(data, test_size=0.2, train_size=None, random_state=None, shuffle=True)*\n",
    "\n",
    "Split a dataset into trainset and testset."
   ]
  },
  {
   "cell_type": "code",
   "execution_count": 7,
   "metadata": {
    "id": "1U32yu9UB_E6"
   },
   "outputs": [],
   "source": [
    "trainset, testset= train_test_split(data, test_size = 0.20, random_state = 0)"
   ]
  },
  {
   "cell_type": "markdown",
   "metadata": {
    "id": "J5tDp3fFAu1z"
   },
   "source": [
    "## Trainset class \n",
    "Trainset contains all useful data that constitute a training set.\n",
    "Reference:https://surprise.readthedocs.io/en/stable/trainset.html"
   ]
  },
  {
   "cell_type": "code",
   "execution_count": 8,
   "metadata": {
    "colab": {
     "base_uri": "https://localhost:8080/"
    },
    "id": "Ofn48Im6Aju1",
    "outputId": "24769842-e35e-43aa-ce84-f2b0ea377a63"
   },
   "outputs": [
    {
     "name": "stdout",
     "output_type": "stream",
     "text": [
      "Number of users 610\n"
     ]
    }
   ],
   "source": [
    "trainset.n_users\n",
    "print(\"Number of users\",trainset.n_users)"
   ]
  },
  {
   "cell_type": "code",
   "execution_count": 9,
   "metadata": {
    "colab": {
     "base_uri": "https://localhost:8080/"
    },
    "id": "He-goGg-AgHA",
    "outputId": "1cd98352-135c-47a3-e82d-aa89ed643400"
   },
   "outputs": [
    {
     "name": "stdout",
     "output_type": "stream",
     "text": [
      "Number of items: 8979\n"
     ]
    }
   ],
   "source": [
    "trainset.n_items\n",
    "print(\"Number of items:\",trainset.n_items)"
   ]
  },
  {
   "cell_type": "markdown",
   "metadata": {
    "id": "REtez7fDea13"
   },
   "source": [
    "# **Collaborative Filtering Algorithm**"
   ]
  },
  {
   "cell_type": "markdown",
   "metadata": {
    "id": "IlOU5_mPEpHM"
   },
   "source": [
    "## Train the model"
   ]
  },
  {
   "cell_type": "markdown",
   "metadata": {
    "id": "tu0e8_XhhoHG"
   },
   "source": [
    "## KNN With Means "
   ]
  },
  {
   "cell_type": "code",
   "execution_count": 10,
   "metadata": {
    "colab": {
     "base_uri": "https://localhost:8080/"
    },
    "id": "ZTp8DQnkEUze",
    "outputId": "755af82b-79fc-474f-c5f3-269b34e48f7b"
   },
   "outputs": [
    {
     "name": "stdout",
     "output_type": "stream",
     "text": [
      "Computing the pearson similarity matrix...\n",
      "Done computing similarity matrix.\n"
     ]
    }
   ],
   "source": [
    "from surprise import KNNWithMeans\n",
    "sim_options = {\"name\": \"pearson\", \"user_based\": True, \"shrinkage\": 100}  \n",
    "algo1 = KNNWithMeans(sim_options=sim_options)\n",
    "algo1.fit(trainset)\n",
    "predictions1 = algo1.test(testset)\n"
   ]
  },
  {
   "cell_type": "markdown",
   "metadata": {
    "id": "7U3CND1qhw2M"
   },
   "source": [
    "## KNN with ZScore "
   ]
  },
  {
   "cell_type": "code",
   "execution_count": 11,
   "metadata": {
    "colab": {
     "base_uri": "https://localhost:8080/"
    },
    "id": "G7K4_kFTiDNb",
    "outputId": "cecfc0ce-aa4a-46b9-84a1-c0ea72d77443"
   },
   "outputs": [
    {
     "name": "stdout",
     "output_type": "stream",
     "text": [
      "Estimating biases using als...\n",
      "Computing the pearson_baseline similarity matrix...\n",
      "Done computing similarity matrix.\n"
     ]
    }
   ],
   "source": [
    "from surprise import KNNWithZScore\n",
    "sim_options = {\"name\": \"pearson_baseline\", \"user_based\": False, \"shrinkage\": 100} \n",
    "algo2 = KNNWithZScore(sim_options=sim_options)\n",
    "algo2.fit(trainset)\n",
    "predictions2 = algo2.test(testset)"
   ]
  },
  {
   "cell_type": "markdown",
   "metadata": {
    "id": "gt3e74R8iv0P"
   },
   "source": [
    "### **Calculate the RMSE (root mean squared error) for both algorithms using the testing set**"
   ]
  },
  {
   "cell_type": "markdown",
   "metadata": {
    "id": "evKx5JhhEsSN"
   },
   "source": [
    "## Evaluate the model "
   ]
  },
  {
   "cell_type": "code",
   "execution_count": 12,
   "metadata": {
    "colab": {
     "base_uri": "https://localhost:8080/"
    },
    "id": "shW7JEWyhxci",
    "outputId": "ba68625f-9b4e-4168-8bf1-037861110f5f"
   },
   "outputs": [
    {
     "name": "stdout",
     "output_type": "stream",
     "text": [
      "RMSE: 0.8888\n",
      "RMSE: 0.8798\n"
     ]
    }
   ],
   "source": [
    "RMSE1 = accuracy.rmse(predictions1)\n",
    "RMSE2 = accuracy.rmse(predictions2)"
   ]
  },
  {
   "cell_type": "code",
   "execution_count": 13,
   "metadata": {
    "colab": {
     "base_uri": "https://localhost:8080/"
    },
    "id": "AFNvZTZVn-q0",
    "outputId": "ce8371b2-1736-4200-bd3c-1db3f59a07fc"
   },
   "outputs": [
    {
     "name": "stdout",
     "output_type": "stream",
     "text": [
      "User-based RMSE:  0.8888\n",
      "Item-based RMSE:  0.8798\n"
     ]
    }
   ],
   "source": [
    "print(\"User-based RMSE: \", round(RMSE1,4))\n",
    "print(\"Item-based RMSE: \", round(RMSE2,4))"
   ]
  },
  {
   "cell_type": "code",
   "execution_count": 14,
   "metadata": {
    "colab": {
     "base_uri": "https://localhost:8080/"
    },
    "id": "5S7-hEbmgdCo",
    "outputId": "3b421ad2-6f34-4a96-accb-58c694bc78cf"
   },
   "outputs": [
    {
     "data": {
      "text/plain": [
       "[Prediction(uid='548', iid='1196', r_ui=3.5, est=4.4677715198217145, details={'actual_k': 40, 'was_impossible': False}),\n",
       " Prediction(uid='590', iid='1252', r_ui=3.0, est=3.954750769092146, details={'actual_k': 40, 'was_impossible': False}),\n",
       " Prediction(uid='8', iid='32', r_ui=3.0, est=4.057075161246585, details={'actual_k': 40, 'was_impossible': False}),\n",
       " Prediction(uid='217', iid='2993', r_ui=3.0, est=3.1264745449375506, details={'actual_k': 14, 'was_impossible': False}),\n",
       " Prediction(uid='51', iid='2613', r_ui=5.0, est=3.2044931148625877, details={'actual_k': 7, 'was_impossible': False})]"
      ]
     },
     "execution_count": 14,
     "metadata": {},
     "output_type": "execute_result"
    }
   ],
   "source": [
    "# List of predictions for KNN with Means algorithm for a user- based collaborative filtering system\n",
    "predictions1[0:5]"
   ]
  },
  {
   "cell_type": "code",
   "execution_count": 15,
   "metadata": {
    "colab": {
     "base_uri": "https://localhost:8080/"
    },
    "id": "HXCowTG3jI7S",
    "outputId": "83ba5a28-ec4b-44d3-ae82-6e3b5a6b65c3"
   },
   "outputs": [
    {
     "data": {
      "text/plain": [
       "[Prediction(uid='548', iid='1196', r_ui=3.5, est=4.17127245021777, details={'actual_k': 5, 'was_impossible': False}),\n",
       " Prediction(uid='590', iid='1252', r_ui=3.0, est=4.250017833238, details={'actual_k': 40, 'was_impossible': False}),\n",
       " Prediction(uid='8', iid='32', r_ui=3.0, est=4.148155591835363, details={'actual_k': 15, 'was_impossible': False}),\n",
       " Prediction(uid='217', iid='2993', r_ui=3.0, est=3.2804308903720845, details={'actual_k': 40, 'was_impossible': False}),\n",
       " Prediction(uid='51', iid='2613', r_ui=5.0, est=3.296068220979953, details={'actual_k': 40, 'was_impossible': False})]"
      ]
     },
     "execution_count": 15,
     "metadata": {},
     "output_type": "execute_result"
    }
   ],
   "source": [
    "# List of predictions for KNN with ZScore algorithm for a item- based collaborative filtering system\n",
    "predictions2[0:5]"
   ]
  },
  {
   "cell_type": "markdown",
   "metadata": {
    "id": "UbI0Jmp-lXdu"
   },
   "source": [
    "### **My findings and recommendations for improving the recommender system**"
   ]
  },
  {
   "cell_type": "markdown",
   "metadata": {
    "id": "q877aQb5amHe"
   },
   "source": [
    "> According to results from User-based RMSE using KNN with Means algorithm and Item-based RMSE using KNN with ZScore, althogh both are slightly different, **RMSE using KNN with ZScore is lower with value of 0.8789** compare RMSE using with value of 0.8888. So, apart from the fact that users have multiple tastes while Items are simpler, with RMSE, KNN with Zscore seems to have a better result. However, to improve the recommender system, **Hyperparameter tuning, advanced algorithms, more users' data and, better data quality can be done to enhance this**. Starting from Hyperparameter tuning, using different similarity metrics, varying the number of neighbors considered for the predictions, adjusting the shrinkage parameter, employing cross-validation, and performing grid or random search to find the best hyperparameters will help improving the recommender system. For advanced algorithms, using Hybrid method or Content-based Recommender Systems can take part in help upgrade accuracy while reduce the problem of first rater or new user and new item that collaborative filtering cannot provide. More users' data, collect more data as much as possible to avoid unmatch problem. Finally, better data quality in terms of variety, incentivize users to provide more ratings or feedback on the items they have used or interacted with and using multiple source of data can contribute to a better recommender system.\n",
    "\n",
    "\n",
    "\n",
    "\n",
    "\n"
   ]
  },
  {
   "cell_type": "markdown",
   "metadata": {
    "id": "Vpdx84lhFuvE"
   },
   "source": [
    "# **Note to improving the Recommender System**"
   ]
  },
  {
   "cell_type": "markdown",
   "metadata": {
    "id": "6bM3pa4jkWAQ"
   },
   "source": [
    "### **Implement a hybrid recommender system that combines user-based and item-based collaborative filtering algorithms.**"
   ]
  },
  {
   "cell_type": "code",
   "execution_count": 16,
   "metadata": {
    "colab": {
     "base_uri": "https://localhost:8080/"
    },
    "id": "6cD4ZDEMiS-H",
    "outputId": "f541aae1-9f26-4f7b-96c0-f6c7555840f3"
   },
   "outputs": [
    {
     "name": "stdout",
     "output_type": "stream",
     "text": [
      "Computing the pearson similarity matrix...\n",
      "Done computing similarity matrix.\n",
      "Estimating biases using als...\n",
      "Computing the pearson_baseline similarity matrix...\n",
      "Done computing similarity matrix.\n"
     ]
    }
   ],
   "source": [
    "# Create matrix factorization model \n",
    "mf = SVD()\n",
    "\n",
    "# Train both models on the training set using the former 2 algorithm of User based and Item based  \n",
    "algo1.fit(trainset)\n",
    "algo2.fit(trainset)\n",
    "\n",
    "# Train matrix factorization model on the training set\n",
    "mf.fit(trainset)\n",
    "\n",
    "# Define a function to combine the predictions of the user-based and item-based models\n",
    "def hybrid(user_id, item_id):\n",
    "    # Get the predicted rating from the user-based model\n",
    "    user_pred = algo1.predict(user_id, item_id).est\n",
    "    \n",
    "    # Get the predicted rating from the item-based model\n",
    "    item_pred = algo2.predict(user_id, item_id).est\n",
    "    \n",
    "    # Get the predicted rating from the matrix factorization model\n",
    "    mf_pred = mf.predict(user_id, item_id).est\n",
    "    \n",
    "    # Calculate the weighted average of the three predictions\n",
    "    hybrid_pred = (user_pred + item_pred + mf_pred) / 3\n",
    "    return hybrid_pred\n"
   ]
  },
  {
   "cell_type": "code",
   "execution_count": 17,
   "metadata": {
    "colab": {
     "base_uri": "https://localhost:8080/"
    },
    "id": "R6i2Y8UvijHH",
    "outputId": "ca81e491-9ad4-4181-81b0-b99b725f7e11"
   },
   "outputs": [
    {
     "name": "stdout",
     "output_type": "stream",
     "text": [
      "RMSE: 0.8888\n",
      "RMSE: 0.8798\n"
     ]
    }
   ],
   "source": [
    "# Calculate the RMSE of the hybrid model on the testing set\n",
    "hybrid_predictions = []\n",
    "for user_id, item_id, actual_rating in testset:\n",
    "    hybrid_pred = hybrid(user_id, item_id)\n",
    "    hybrid_predictions.append(hybrid_pred)\n",
    "hybrid_rmse = np.sqrt(np.mean((np.array(hybrid_predictions) - np.array([actual_rating for (_, _, actual_rating) in testset]))**2))\n",
    "\n",
    "# Calculate the RMSE of the user-based model on the testing set\n",
    "user_predictions = algo1.test(testset)\n",
    "user_rmse = surprise.accuracy.rmse(user_predictions)\n",
    "\n",
    "# Calculate the RMSE of the item-based model on the testing set\n",
    "item_predictions = algo2.test(testset)\n",
    "item_rmse = surprise.accuracy.rmse(item_predictions)"
   ]
  },
  {
   "cell_type": "markdown",
   "metadata": {
    "id": "4XvXx2UmkfjW"
   },
   "source": [
    "### **Compare the performance of the hybrid system with the individual user-based and item-based algorithms.**"
   ]
  },
  {
   "cell_type": "code",
   "execution_count": 18,
   "metadata": {
    "colab": {
     "base_uri": "https://localhost:8080/"
    },
    "id": "T8cfh3eVipHM",
    "outputId": "1146aa2a-006a-4aea-cefe-83dada8ca50d"
   },
   "outputs": [
    {
     "name": "stdout",
     "output_type": "stream",
     "text": [
      "User-based RMSE:  0.8888\n",
      "Item-based RMSE:  0.8798\n",
      "Hybrid RMSE:  0.8517\n"
     ]
    }
   ],
   "source": [
    "# Print the RMSEs of all three models\n",
    "print(\"User-based RMSE: \", round(user_rmse,4))\n",
    "print(\"Item-based RMSE: \", round(item_rmse,4))\n",
    "print(\"Hybrid RMSE: \", round(hybrid_rmse,4))"
   ]
  },
  {
   "cell_type": "markdown",
   "metadata": {
    "id": "jYCOM0hzkkyz"
   },
   "source": [
    "### **Result from my implementation together with my findings.**"
   ]
  },
  {
   "cell_type": "markdown",
   "metadata": {
    "id": "0IFGF8w7y14j"
   },
   "source": [
    "> My implementation start by creating 3 different recommendation models - User-based collaborative filtering model (using KNNWithMeans algorithm), Item-based collaborative filtering model (using KNNWithZScore algorithm), and Matrix Factorization model (using SVD algorithm). Then, I trained all models with the same training dataset. I used function called 'hybrid' to take a user ID and an item ID as input and return a weighted average of the predicted rating from the three models. This function was designed to improve the accuracy of the rating prediction by combining the predictions of the three models. Finnaly, I calculated RMSE for all models which are User-based collaborative filtering model (using KNNWithMeans algorithm), Item-based collaborative filtering model (using KNNWithZScore algorithm),and Hybrid model to compare performance and check which one is better. \n",
    "According to the all 3 RMSE results, the one with the lowest RMSE is Hybrid model with RMSE of 0.8517 compare to User-based RMSE with value of 0.8888\n",
    "and Item-based RMSE with value of 0.8798. Therefore, to combine the individual user-based with item-based algorithms as a hybrid model does help improve the accuracy by reducing RMSE to be lower.\n",
    "\n",
    "\n",
    "\n"
   ]
  },
  {
   "cell_type": "code",
   "execution_count": 18,
   "metadata": {
    "id": "_dtOfBkg2ima"
   },
   "outputs": [],
   "source": []
  }
 ],
 "metadata": {
  "colab": {
   "provenance": []
  },
  "kernelspec": {
   "display_name": "Python 3 (ipykernel)",
   "language": "python",
   "name": "python3"
  },
  "language_info": {
   "codemirror_mode": {
    "name": "ipython",
    "version": 3
   },
   "file_extension": ".py",
   "mimetype": "text/x-python",
   "name": "python",
   "nbconvert_exporter": "python",
   "pygments_lexer": "ipython3",
   "version": "3.10.9"
  }
 },
 "nbformat": 4,
 "nbformat_minor": 1
}
